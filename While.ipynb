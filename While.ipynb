{
 "cells": [
  {
   "cell_type": "code",
   "execution_count": 1,
   "id": "df410390-64e3-439f-bdfc-5414cd89caec",
   "metadata": {},
   "outputs": [],
   "source": [
    "x = 0"
   ]
  },
  {
   "cell_type": "code",
   "execution_count": 2,
   "id": "26b5612f-f2a4-42ca-889e-5406a3613f18",
   "metadata": {},
   "outputs": [
    {
     "name": "stdout",
     "output_type": "stream",
     "text": [
      "while loop started\n",
      "0\n",
      "1\n",
      "2\n",
      "3\n",
      "4\n",
      "5\n",
      "6\n",
      "7\n",
      "8\n",
      "9\n",
      "while loop finished\n"
     ]
    }
   ],
   "source": [
    "print(\"while loop started\")\n",
    "while x <10 :\n",
    "    print (x)\n",
    "    x = x+1\n",
    "print(\"while loop finished\")"
   ]
  },
  {
   "cell_type": "code",
   "execution_count": 3,
   "id": "eb3d3417-96f8-4dfb-9f74-3f0d86dc5304",
   "metadata": {},
   "outputs": [],
   "source": [
    "\n",
    "last_list = [10,20,30,40,50,60]"
   ]
  },
  {
   "cell_type": "code",
   "execution_count": 4,
   "id": "37deeb1f-a089-4340-a7e0-d3194192ac26",
   "metadata": {},
   "outputs": [
    {
     "name": "stdout",
     "output_type": "stream",
     "text": [
      "20 in last list\n",
      "20 in last list\n",
      "20 in last list\n",
      "20 in last list\n",
      "20 in last list\n"
     ]
    }
   ],
   "source": [
    "while 20 in last_list:\n",
    "    print(\"20 in last list\")\n",
    "    last_list.pop()"
   ]
  },
  {
   "cell_type": "code",
   "execution_count": 12,
   "id": "d840fcf8-a9ab-4b02-990b-54e546c74cf5",
   "metadata": {},
   "outputs": [],
   "source": [
    "#while 1==1: #surekli calismasini istiyosak "
   ]
  },
  {
   "cell_type": "code",
   "execution_count": 14,
   "id": "4f375ab5-edd6-42f6-a156-548c15fcc85c",
   "metadata": {},
   "outputs": [],
   "source": [
    "my_list = [ 10,20,30]"
   ]
  },
  {
   "cell_type": "code",
   "execution_count": 16,
   "id": "6f7d33c3-a628-4627-a979-d1de4938c3ab",
   "metadata": {},
   "outputs": [
    {
     "data": {
      "text/plain": [
       "[10, 20, 30]"
      ]
     },
     "execution_count": 16,
     "metadata": {},
     "output_type": "execute_result"
    }
   ],
   "source": [
    "my_list"
   ]
  },
  {
   "cell_type": "code",
   "execution_count": 18,
   "id": "458ea332-3df4-4d81-abd8-25615fd92555",
   "metadata": {},
   "outputs": [
    {
     "name": "stdout",
     "output_type": "stream",
     "text": [
      "my_list: [10, 20, 30]\n"
     ]
    }
   ],
   "source": [
    "print(f\"my_list: {my_list}\")\n"
   ]
  },
  {
   "cell_type": "code",
   "execution_count": 28,
   "id": "b86571d6-b474-45f1-89cc-b72fa829d9fa",
   "metadata": {},
   "outputs": [
    {
     "name": "stdin",
     "output_type": "stream",
     "text": [
      " name:  ece\n"
     ]
    }
   ],
   "source": [
    "name = input (\" name: \")"
   ]
  },
  {
   "cell_type": "code",
   "execution_count": 30,
   "id": "76d5ba59-51f7-4b15-a7f6-7fecf2578c69",
   "metadata": {},
   "outputs": [
    {
     "name": "stdout",
     "output_type": "stream",
     "text": [
      "welcome ece\n"
     ]
    }
   ],
   "source": [
    "print (f\"welcome {name}\")"
   ]
  },
  {
   "cell_type": "code",
   "execution_count": 32,
   "id": "c23d020d-ca15-4ccc-a12c-dc1cefc8354f",
   "metadata": {},
   "outputs": [
    {
     "name": "stdout",
     "output_type": "stream",
     "text": [
      "welcome ece\n"
     ]
    }
   ],
   "source": [
    "print (\"welcome\",name)"
   ]
  },
  {
   "cell_type": "code",
   "execution_count": 38,
   "id": "8d1fdc38-20f4-472c-b098-573b71cf0735",
   "metadata": {},
   "outputs": [
    {
     "name": "stdout",
     "output_type": "stream",
     "text": [
      "value of p:0\n",
      "value of p:1\n",
      "value of p:2\n",
      "value of p:3\n",
      "value of p:4\n",
      "value of p:5\n",
      "value of p:6\n",
      "value of p:7\n",
      "value of p:8\n",
      "value of p:9\n",
      "value of p:10\n",
      "value of p:11\n",
      "value of p:12\n",
      "value of p:13\n",
      "value of p:14\n",
      "value of p:15\n",
      "value of p:16\n",
      "value of p:17\n",
      "value of p:18\n",
      "value of p:19\n"
     ]
    }
   ],
   "source": [
    "p = 0  \n",
    "while p <20:\n",
    "    print(f\"value of p:{p}\")\n",
    "    p += 1"
   ]
  },
  {
   "cell_type": "code",
   "execution_count": null,
   "id": "d6f67d62-f366-4cd5-b250-2781f4cf611b",
   "metadata": {},
   "outputs": [],
   "source": []
  }
 ],
 "metadata": {
  "kernelspec": {
   "display_name": "Python 3 (ipykernel)",
   "language": "python",
   "name": "python3"
  },
  "language_info": {
   "codemirror_mode": {
    "name": "ipython",
    "version": 3
   },
   "file_extension": ".py",
   "mimetype": "text/x-python",
   "name": "python",
   "nbconvert_exporter": "python",
   "pygments_lexer": "ipython3",
   "version": "3.12.7"
  }
 },
 "nbformat": 4,
 "nbformat_minor": 5
}
